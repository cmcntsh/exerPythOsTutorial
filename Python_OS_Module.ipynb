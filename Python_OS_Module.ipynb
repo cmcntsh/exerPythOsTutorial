{
 "cells": [
  {
   "cell_type": "markdown",
   "id": "9033b688",
   "metadata": {
    "deletable": false,
    "editable": false,
    "nbgrader": {
     "cell_type": "markdown",
     "checksum": "9d89a51f088188659b9108230ef99865",
     "grade": false,
     "grade_id": "cell-3f75184a258bbe3c",
     "locked": true,
     "schema_version": 3,
     "solution": false,
     "task": false
    }
   },
   "source": [
    "# Python os Module"
   ]
  },
  {
   "cell_type": "markdown",
   "id": "01b385ab",
   "metadata": {
    "deletable": false,
    "editable": false,
    "nbgrader": {
     "cell_type": "markdown",
     "checksum": "1c70540a558eb134bea221441a53bd43",
     "grade": false,
     "grade_id": "cell-cd6014d7d661e1bb",
     "locked": true,
     "schema_version": 3,
     "solution": false,
     "task": false
    }
   },
   "source": [
    "### Instructions\n",
    "\n",
    "* Watch the video tutorial about the os module at https://www.youtube.com/watch?v=tJxcKyFMTGo \n",
    "* Complete the programming exercises below as you go through the tutorial.\n",
    "* Delete or comment out the line of code in each cell which says `raise NotImplementedError()` and replace it with your own.\n",
    "\n",
    "### Exercises"
   ]
  },
  {
   "cell_type": "markdown",
   "id": "5328616a",
   "metadata": {
    "deletable": false,
    "editable": false,
    "nbgrader": {
     "cell_type": "markdown",
     "checksum": "f884c32696ec6b7068725cce8bce3c65",
     "grade": false,
     "grade_id": "cell-26af21e04498d13f",
     "locked": true,
     "schema_version": 3,
     "solution": false,
     "task": false
    }
   },
   "source": [
    "Write code in the cell below.\n",
    "\n",
    "* How do you import the os module?"
   ]
  },
  {
   "cell_type": "code",
   "execution_count": null,
   "id": "15a1db1d",
   "metadata": {
    "deletable": false,
    "nbgrader": {
     "cell_type": "code",
     "checksum": "3323221388da47e8e4957a6ff257caff",
     "grade": true,
     "grade_id": "cell-f503091cdfcc9ad2",
     "locked": false,
     "points": 1,
     "schema_version": 3,
     "solution": true,
     "task": false
    }
   },
   "outputs": [],
   "source": [
    "\n",
    "# YOUR CODE HERE\n",
    "raise NotImplementedError()"
   ]
  },
  {
   "cell_type": "markdown",
   "id": "16df73b3",
   "metadata": {
    "deletable": false,
    "editable": false,
    "nbgrader": {
     "cell_type": "markdown",
     "checksum": "d19b6aff42b4fb363e96fcbc74411ceb",
     "grade": false,
     "grade_id": "cell-25f4539b513bf731",
     "locked": true,
     "schema_version": 3,
     "solution": false,
     "task": false
    }
   },
   "source": [
    "Write code in the cell below.\n",
    "\n",
    "* What command will show you all the attributes and methods in the os module?"
   ]
  },
  {
   "cell_type": "code",
   "execution_count": null,
   "id": "8b1233aa",
   "metadata": {
    "deletable": false,
    "nbgrader": {
     "cell_type": "code",
     "checksum": "725e06aa3bf331173bc3df552bb84df6",
     "grade": true,
     "grade_id": "cell-82f907b1e70f337f",
     "locked": false,
     "points": 1,
     "schema_version": 3,
     "solution": true,
     "task": false
    }
   },
   "outputs": [],
   "source": [
    "\n",
    "# YOUR CODE HERE\n",
    "raise NotImplementedError()"
   ]
  },
  {
   "cell_type": "markdown",
   "id": "ca1dec07",
   "metadata": {
    "deletable": false,
    "editable": false,
    "nbgrader": {
     "cell_type": "markdown",
     "checksum": "25153e21e9fbe31d6d1547e2ddb4fdb7",
     "grade": false,
     "grade_id": "cell-4352b30093ac633c",
     "locked": true,
     "schema_version": 3,
     "solution": false,
     "task": false
    }
   },
   "source": [
    "Write code in the cell below.\n",
    "\n",
    "* What command will show you the current working directory?"
   ]
  },
  {
   "cell_type": "code",
   "execution_count": null,
   "id": "11d16177",
   "metadata": {
    "deletable": false,
    "nbgrader": {
     "cell_type": "code",
     "checksum": "bfb0057f831284ab11887542fe8216d0",
     "grade": true,
     "grade_id": "cell-163883b61da6d77a",
     "locked": false,
     "points": 1,
     "schema_version": 3,
     "solution": true,
     "task": false
    }
   },
   "outputs": [],
   "source": [
    "\n",
    "# YOUR CODE HERE\n",
    "raise NotImplementedError()"
   ]
  },
  {
   "cell_type": "markdown",
   "id": "ca696443",
   "metadata": {
    "deletable": false,
    "editable": false,
    "nbgrader": {
     "cell_type": "markdown",
     "checksum": "09beb4bfae917b05181fe57966671c5a",
     "grade": false,
     "grade_id": "cell-bbf1a3690831e29d",
     "locked": true,
     "schema_version": 3,
     "solution": false,
     "task": false
    }
   },
   "source": [
    "Write code in the cell below.\n",
    "\n",
    "* What command will allow you to change the current working directory?"
   ]
  },
  {
   "cell_type": "code",
   "execution_count": null,
   "id": "cc35e8eb",
   "metadata": {
    "deletable": false,
    "nbgrader": {
     "cell_type": "code",
     "checksum": "0fbdd9ba7e4b7176c925b54456865f5a",
     "grade": true,
     "grade_id": "cell-ba1b7c7b01b5de9a",
     "locked": false,
     "points": 1,
     "schema_version": 3,
     "solution": true,
     "task": false
    }
   },
   "outputs": [],
   "source": [
    "\n",
    "# YOUR CODE HERE\n",
    "raise NotImplementedError()"
   ]
  },
  {
   "cell_type": "markdown",
   "id": "3f65f615",
   "metadata": {
    "deletable": false,
    "editable": false,
    "nbgrader": {
     "cell_type": "markdown",
     "checksum": "9fd119a498c5be2be8e34723354f4a0c",
     "grade": false,
     "grade_id": "cell-81518436b3783131",
     "locked": true,
     "schema_version": 3,
     "solution": false,
     "task": false
    }
   },
   "source": [
    "Write code in the cell below.\n",
    "\n",
    "* What command will allow you to see the files and folders in a directory?"
   ]
  },
  {
   "cell_type": "code",
   "execution_count": null,
   "id": "06c676a2",
   "metadata": {
    "deletable": false,
    "nbgrader": {
     "cell_type": "code",
     "checksum": "b76f0a69f3db22a7f719653db683e585",
     "grade": true,
     "grade_id": "cell-592595461bcb153c",
     "locked": false,
     "points": 1,
     "schema_version": 3,
     "solution": true,
     "task": false
    }
   },
   "outputs": [],
   "source": [
    "\n",
    "# YOUR CODE HERE\n",
    "raise NotImplementedError()"
   ]
  },
  {
   "cell_type": "markdown",
   "id": "365d9fe9",
   "metadata": {
    "deletable": false,
    "editable": false,
    "nbgrader": {
     "cell_type": "markdown",
     "checksum": "32ce5253f8e4b152e303c202d37069b5",
     "grade": false,
     "grade_id": "cell-dacf5acc597742cc",
     "locked": true,
     "schema_version": 3,
     "solution": false,
     "task": false
    }
   },
   "source": [
    "Write code in the cell below.\n",
    "\n",
    "* What commands will allow you to create a new directory?"
   ]
  },
  {
   "cell_type": "code",
   "execution_count": null,
   "id": "ae2ef7b2",
   "metadata": {
    "deletable": false,
    "nbgrader": {
     "cell_type": "code",
     "checksum": "c645e72c79bdc5fb6c35d6560c9ec2a9",
     "grade": true,
     "grade_id": "cell-8f47a4a47c947812",
     "locked": false,
     "points": 1,
     "schema_version": 3,
     "solution": true,
     "task": false
    }
   },
   "outputs": [],
   "source": [
    "\n",
    "# YOUR CODE HERE\n",
    "raise NotImplementedError()"
   ]
  },
  {
   "cell_type": "markdown",
   "id": "7eaea886",
   "metadata": {
    "deletable": false,
    "editable": false,
    "nbgrader": {
     "cell_type": "markdown",
     "checksum": "cef18a2f093671cc0861ed6eb39be7fd",
     "grade": false,
     "grade_id": "cell-9261c50e25750db0",
     "locked": true,
     "schema_version": 3,
     "solution": false,
     "task": false
    }
   },
   "source": [
    "Write code in the cell below.\n",
    "\n",
    "* What commands will allow you to delete a directory?"
   ]
  },
  {
   "cell_type": "code",
   "execution_count": null,
   "id": "86cf3e28",
   "metadata": {
    "deletable": false,
    "nbgrader": {
     "cell_type": "code",
     "checksum": "11a83513161d7abca52d96e58c30c5fb",
     "grade": true,
     "grade_id": "cell-37df89011f6c1b2b",
     "locked": false,
     "points": 1,
     "schema_version": 3,
     "solution": true,
     "task": false
    }
   },
   "outputs": [],
   "source": [
    "\n",
    "# YOUR CODE HERE\n",
    "raise NotImplementedError()"
   ]
  },
  {
   "cell_type": "markdown",
   "id": "48798a62",
   "metadata": {
    "deletable": false,
    "editable": false,
    "nbgrader": {
     "cell_type": "markdown",
     "checksum": "42d234efce042408ca42e3528002679a",
     "grade": false,
     "grade_id": "cell-7ec23fbb763e1481",
     "locked": true,
     "schema_version": 3,
     "solution": false,
     "task": false
    }
   },
   "source": [
    "Write code in the cell below.\n",
    "\n",
    "* What commands will allow you to rename a file or folder?"
   ]
  },
  {
   "cell_type": "code",
   "execution_count": null,
   "id": "9350f6c8",
   "metadata": {
    "deletable": false,
    "nbgrader": {
     "cell_type": "code",
     "checksum": "9c2a11a50e5fd07160e86fd1607a0036",
     "grade": true,
     "grade_id": "cell-5141319062ba4f2f",
     "locked": false,
     "points": 1,
     "schema_version": 3,
     "solution": true,
     "task": false
    }
   },
   "outputs": [],
   "source": [
    "\n",
    "# YOUR CODE HERE\n",
    "raise NotImplementedError()"
   ]
  },
  {
   "cell_type": "markdown",
   "id": "190a6642",
   "metadata": {
    "deletable": false,
    "editable": false,
    "nbgrader": {
     "cell_type": "markdown",
     "checksum": "ae65dd693a31db962ef86f02566ed176",
     "grade": false,
     "grade_id": "cell-edbf09420137baad",
     "locked": true,
     "schema_version": 3,
     "solution": false,
     "task": false
    }
   },
   "source": [
    "Write code in the cell below.\n",
    "\n",
    "* What commands will allow you to print out information about a file?"
   ]
  },
  {
   "cell_type": "code",
   "execution_count": null,
   "id": "29cd984c",
   "metadata": {
    "deletable": false,
    "nbgrader": {
     "cell_type": "code",
     "checksum": "0baa3fb12af28a7fcb430d039ee0d28f",
     "grade": true,
     "grade_id": "cell-119a3888f44ffcc5",
     "locked": false,
     "points": 1,
     "schema_version": 3,
     "solution": true,
     "task": false
    }
   },
   "outputs": [],
   "source": [
    "\n",
    "# YOUR CODE HERE\n",
    "raise NotImplementedError()"
   ]
  },
  {
   "cell_type": "markdown",
   "id": "daf8ceab",
   "metadata": {
    "deletable": false,
    "editable": false,
    "nbgrader": {
     "cell_type": "markdown",
     "checksum": "a44442e01ccd2183de57a87b2924ea88",
     "grade": false,
     "grade_id": "cell-58e3374d7be9ddbc",
     "locked": true,
     "schema_version": 3,
     "solution": false,
     "task": false
    }
   },
   "source": [
    "Write code in the cell below.\n",
    "\n",
    "* How do you import the datetime class from the datetime module?"
   ]
  },
  {
   "cell_type": "code",
   "execution_count": null,
   "id": "6a9505f3",
   "metadata": {
    "deletable": false,
    "nbgrader": {
     "cell_type": "code",
     "checksum": "b80139bbd0c468167ebaacd5012f0c28",
     "grade": true,
     "grade_id": "cell-7ed3b3ace86f6728",
     "locked": false,
     "points": 1,
     "schema_version": 3,
     "solution": true,
     "task": false
    }
   },
   "outputs": [],
   "source": [
    "\n",
    "# YOUR CODE HERE\n",
    "raise NotImplementedError()"
   ]
  },
  {
   "cell_type": "markdown",
   "id": "d80b70b5",
   "metadata": {
    "deletable": false,
    "editable": false,
    "nbgrader": {
     "cell_type": "markdown",
     "checksum": "52b7f194474bb7cb74e264fe3ec43e9f",
     "grade": false,
     "grade_id": "cell-a0f31b401b588f46",
     "locked": true,
     "schema_version": 3,
     "solution": false,
     "task": false
    }
   },
   "source": [
    "Write code in the cell below.\n",
    "\n",
    "* Given the timestamp in the variable below, how do you convert the timestamp to human readable format?"
   ]
  },
  {
   "cell_type": "code",
   "execution_count": null,
   "id": "18a0b1c2",
   "metadata": {
    "deletable": false,
    "nbgrader": {
     "cell_type": "code",
     "checksum": "d77f44d8d6b0f4f46a7dfde2866f4b36",
     "grade": true,
     "grade_id": "cell-9ac06a1897f60292",
     "locked": false,
     "points": 1,
     "schema_version": 3,
     "solution": true,
     "task": false
    }
   },
   "outputs": [],
   "source": [
    "mod_time = os.stat('demo.txt').st_mtime\n",
    "\n",
    "# YOUR CODE HERE\n",
    "raise NotImplementedError()"
   ]
  },
  {
   "cell_type": "markdown",
   "id": "55e71ae3",
   "metadata": {
    "deletable": false,
    "editable": false,
    "nbgrader": {
     "cell_type": "markdown",
     "checksum": "57042e03a348e101d19d6e2dac904bf9",
     "grade": false,
     "grade_id": "cell-c73f361e7489c0a7",
     "locked": true,
     "schema_version": 3,
     "solution": false,
     "task": false
    }
   },
   "source": [
    "Write code in the cell below.\n",
    "\n",
    "* How do you print the directory path, directory names, and file names in the directory tree?"
   ]
  },
  {
   "cell_type": "code",
   "execution_count": null,
   "id": "956a7b5a",
   "metadata": {
    "deletable": false,
    "nbgrader": {
     "cell_type": "code",
     "checksum": "fb380a3283122462013c7de994ed3758",
     "grade": true,
     "grade_id": "cell-aa532a35c2d93bf8",
     "locked": false,
     "points": 1,
     "schema_version": 3,
     "solution": true,
     "task": false
    }
   },
   "outputs": [],
   "source": [
    "\n",
    "# YOUR CODE HERE\n",
    "raise NotImplementedError()"
   ]
  },
  {
   "cell_type": "markdown",
   "id": "8e9075e8",
   "metadata": {
    "deletable": false,
    "editable": false,
    "nbgrader": {
     "cell_type": "markdown",
     "checksum": "1de0419401d00a0280ffe1c0f82576e2",
     "grade": false,
     "grade_id": "cell-98208e7da2fcad7e",
     "locked": true,
     "schema_version": 3,
     "solution": false,
     "task": false
    }
   },
   "source": [
    "Write code in the cell below.\n",
    "\n",
    "* How do you print `HOME` environment variable?"
   ]
  },
  {
   "cell_type": "code",
   "execution_count": null,
   "id": "50a4af27",
   "metadata": {
    "deletable": false,
    "nbgrader": {
     "cell_type": "code",
     "checksum": "52cb9cc6a3a3717f6f220f4246779aad",
     "grade": true,
     "grade_id": "cell-4362155b0b7e1b92",
     "locked": false,
     "points": 1,
     "schema_version": 3,
     "solution": true,
     "task": false
    }
   },
   "outputs": [],
   "source": [
    "# This may differ depending on the operating system of your computer.\n",
    "# If you use 'HOME' and see a result of 'None', you may need to use 'HOMEPATH' instead.\n",
    "\n",
    "# YOUR CODE HERE\n",
    "raise NotImplementedError()"
   ]
  },
  {
   "cell_type": "markdown",
   "id": "aefede2e",
   "metadata": {
    "deletable": false,
    "editable": false,
    "nbgrader": {
     "cell_type": "markdown",
     "checksum": "5a621a7f4f8bc033d56d35712ac2b778",
     "grade": false,
     "grade_id": "cell-2b80beb4b3fdd81e",
     "locked": true,
     "schema_version": 3,
     "solution": false,
     "task": false
    }
   },
   "source": [
    "Write code in the cell below.\n",
    "\n",
    "* How do you join a new file called `test.txt` with the path to your `HOME` directory in a variable called file_path?"
   ]
  },
  {
   "cell_type": "code",
   "execution_count": null,
   "id": "2f3d3931",
   "metadata": {
    "deletable": false,
    "nbgrader": {
     "cell_type": "code",
     "checksum": "ecaa0221b4eabeb9d42953b7efed3e08",
     "grade": true,
     "grade_id": "cell-1df891155e134e43",
     "locked": false,
     "points": 1,
     "schema_version": 3,
     "solution": true,
     "task": false
    }
   },
   "outputs": [],
   "source": [
    "\n",
    "# YOUR CODE HERE\n",
    "raise NotImplementedError()"
   ]
  },
  {
   "cell_type": "markdown",
   "id": "f39171c4",
   "metadata": {
    "deletable": false,
    "editable": false,
    "nbgrader": {
     "cell_type": "markdown",
     "checksum": "fbb08be5a4a2ab322d0d2af6c653902a",
     "grade": false,
     "grade_id": "cell-8d9241e31d842371",
     "locked": true,
     "schema_version": 3,
     "solution": false,
     "task": false
    }
   },
   "source": [
    "Write code in the cell below.\n",
    "\n",
    "* How do you print the basename of a path `/tmp/test.txt`?"
   ]
  },
  {
   "cell_type": "code",
   "execution_count": null,
   "id": "e8b036c5",
   "metadata": {
    "deletable": false,
    "nbgrader": {
     "cell_type": "code",
     "checksum": "b880d009dac5c73764f5e3028c5e738a",
     "grade": true,
     "grade_id": "cell-3a6ec72ade8b69b6",
     "locked": false,
     "points": 1,
     "schema_version": 3,
     "solution": true,
     "task": false
    }
   },
   "outputs": [],
   "source": [
    "\n",
    "# YOUR CODE HERE\n",
    "raise NotImplementedError()"
   ]
  },
  {
   "cell_type": "markdown",
   "id": "ead0a589",
   "metadata": {
    "deletable": false,
    "editable": false,
    "nbgrader": {
     "cell_type": "markdown",
     "checksum": "90eed495a62d7590d3df5fdb60305986",
     "grade": false,
     "grade_id": "cell-f5fa9dc8785b2e27",
     "locked": true,
     "schema_version": 3,
     "solution": false,
     "task": false
    }
   },
   "source": [
    "Write code in the cell below.\n",
    "\n",
    "* How do you print the directory name of a path `/tmp/test.txt`?"
   ]
  },
  {
   "cell_type": "code",
   "execution_count": null,
   "id": "7f61287f",
   "metadata": {
    "deletable": false,
    "nbgrader": {
     "cell_type": "code",
     "checksum": "df1bc0eff256b4f50ef364e65d735f57",
     "grade": true,
     "grade_id": "cell-00c0484812be5af8",
     "locked": false,
     "points": 1,
     "schema_version": 3,
     "solution": true,
     "task": false
    }
   },
   "outputs": [],
   "source": [
    "\n",
    "# YOUR CODE HERE\n",
    "raise NotImplementedError()"
   ]
  },
  {
   "cell_type": "markdown",
   "id": "1c32d346",
   "metadata": {
    "deletable": false,
    "editable": false,
    "nbgrader": {
     "cell_type": "markdown",
     "checksum": "0e3e947a4ba29486b0a9384a50dd9c77",
     "grade": false,
     "grade_id": "cell-f51ef282b0225301",
     "locked": true,
     "schema_version": 3,
     "solution": false,
     "task": false
    }
   },
   "source": [
    "Write code in the cell below.\n",
    "\n",
    "* How do you print the directory name and the basename of a path `/tmp/test.txt` with one command?"
   ]
  },
  {
   "cell_type": "code",
   "execution_count": null,
   "id": "0a837ba6",
   "metadata": {
    "deletable": false,
    "nbgrader": {
     "cell_type": "code",
     "checksum": "ff5809c3e827c7f62e8a0fb74bd46bfa",
     "grade": true,
     "grade_id": "cell-d1f7bbb202fcdf4d",
     "locked": false,
     "points": 1,
     "schema_version": 3,
     "solution": true,
     "task": false
    }
   },
   "outputs": [],
   "source": [
    "\n",
    "# YOUR CODE HERE\n",
    "raise NotImplementedError()"
   ]
  },
  {
   "cell_type": "markdown",
   "id": "b354cb5a",
   "metadata": {
    "deletable": false,
    "editable": false,
    "nbgrader": {
     "cell_type": "markdown",
     "checksum": "c0ae52d5f372f3bda95e6c31a33fd7b8",
     "grade": false,
     "grade_id": "cell-0180a84e7b124632",
     "locked": true,
     "schema_version": 3,
     "solution": false,
     "task": false
    }
   },
   "source": [
    "Write code in the cell below.\n",
    "\n",
    "* How do you print if a path exists for `/tmp/test.txt`?"
   ]
  },
  {
   "cell_type": "code",
   "execution_count": null,
   "id": "c76f8b4b",
   "metadata": {
    "deletable": false,
    "nbgrader": {
     "cell_type": "code",
     "checksum": "609553a2487e697c48285047d364b54a",
     "grade": true,
     "grade_id": "cell-ed3d95b61f13b9ed",
     "locked": false,
     "points": 1,
     "schema_version": 3,
     "solution": true,
     "task": false
    }
   },
   "outputs": [],
   "source": [
    "\n",
    "# YOUR CODE HERE\n",
    "raise NotImplementedError()"
   ]
  },
  {
   "cell_type": "markdown",
   "id": "56292956",
   "metadata": {
    "deletable": false,
    "editable": false,
    "nbgrader": {
     "cell_type": "markdown",
     "checksum": "3326de533339007c5eeafa1720a53500",
     "grade": false,
     "grade_id": "cell-87469517107b8c74",
     "locked": true,
     "schema_version": 3,
     "solution": false,
     "task": false
    }
   },
   "source": [
    "Write code in the cell below.\n",
    "\n",
    "* How do you print if `/tmp/fgdfgdf` is a directory or a file?"
   ]
  },
  {
   "cell_type": "code",
   "execution_count": null,
   "id": "30a3a29b",
   "metadata": {
    "deletable": false,
    "nbgrader": {
     "cell_type": "code",
     "checksum": "79991af6d716547f2a55496f1ba73cc4",
     "grade": true,
     "grade_id": "cell-ce863a9a8a0db972",
     "locked": false,
     "points": 1,
     "schema_version": 3,
     "solution": true,
     "task": false
    }
   },
   "outputs": [],
   "source": [
    "\n",
    "# YOUR CODE HERE\n",
    "raise NotImplementedError()"
   ]
  },
  {
   "cell_type": "markdown",
   "id": "6be34626",
   "metadata": {
    "deletable": false,
    "editable": false,
    "nbgrader": {
     "cell_type": "markdown",
     "checksum": "1cc61b70f462a5f2ed4058da28d1bdc6",
     "grade": false,
     "grade_id": "cell-c72da6d4ccafea7e",
     "locked": true,
     "schema_version": 3,
     "solution": false,
     "task": false
    }
   },
   "source": [
    "Write code in the cell below.\n",
    "\n",
    "* How do you print the file root and extension for `/tmp/test.txt`?"
   ]
  },
  {
   "cell_type": "code",
   "execution_count": null,
   "id": "8c2b0f26",
   "metadata": {
    "deletable": false,
    "nbgrader": {
     "cell_type": "code",
     "checksum": "26720fae46d1a14c7e49d5a195f0f681",
     "grade": true,
     "grade_id": "cell-601e34ac3d5a3e30",
     "locked": false,
     "points": 1,
     "schema_version": 3,
     "solution": true,
     "task": false
    }
   },
   "outputs": [],
   "source": [
    "\n",
    "# YOUR CODE HERE\n",
    "raise NotImplementedError()"
   ]
  }
 ],
 "metadata": {
  "kernelspec": {
   "display_name": "Python 3",
   "language": "python",
   "name": "python3"
  },
  "language_info": {
   "codemirror_mode": {
    "name": "ipython",
    "version": 3
   },
   "file_extension": ".py",
   "mimetype": "text/x-python",
   "name": "python",
   "nbconvert_exporter": "python",
   "pygments_lexer": "ipython3",
   "version": "3.8.8"
  }
 },
 "nbformat": 4,
 "nbformat_minor": 5
}
